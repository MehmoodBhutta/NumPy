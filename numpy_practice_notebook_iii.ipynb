{
  "nbformat": 4,
  "nbformat_minor": 0,
  "metadata": {
    "colab": {
      "provenance": [],
      "include_colab_link": true
    },
    "kernelspec": {
      "name": "python3",
      "display_name": "Python 3"
    },
    "language_info": {
      "name": "python"
    }
  },
  "cells": [
    {
      "cell_type": "markdown",
      "metadata": {
        "id": "view-in-github",
        "colab_type": "text"
      },
      "source": [
        "<a href=\"https://colab.research.google.com/github/MehmoodBhutta/data-science-work/blob/main/numpy_practice_notebook_iii.ipynb\" target=\"_parent\"><img src=\"https://colab.research.google.com/assets/colab-badge.svg\" alt=\"Open In Colab\"/></a>"
      ]
    },
    {
      "cell_type": "code",
      "execution_count": null,
      "metadata": {
        "id": "Z4cRFg1jABQd"
      },
      "outputs": [],
      "source": [
        "import numpy as np"
      ]
    },
    {
      "cell_type": "code",
      "source": [],
      "metadata": {
        "id": "6H-YeXxKAyV9"
      },
      "execution_count": null,
      "outputs": []
    },
    {
      "cell_type": "markdown",
      "source": [
        "# Numpy Practice III"
      ],
      "metadata": {
        "id": "KVN19bKkBkOp"
      }
    },
    {
      "cell_type": "markdown",
      "source": [
        "## Q1. Product Sales\n",
        "\n",
        "A company has data available for sales (in $) of several of it's products across multiple years. The sales data for each product is stored in a separate 1D array. Suppose that the company has data for 4 products from years 2016-2022 inclusive:"
      ],
      "metadata": {
        "id": "dmzF1RB9BijG"
      }
    },
    {
      "cell_type": "code",
      "source": [
        "a = np.random.randint(low=10, high=100, size=7)\n",
        "b = np.random.randint(low=20, high=90, size=7)\n",
        "c = np.random.randint(low=30, high=70, size=7)\n",
        "d = np.random.randint(low=10, high=80, size=7)"
      ],
      "metadata": {
        "id": "BUoQ0rp1Az-l"
      },
      "execution_count": null,
      "outputs": []
    },
    {
      "cell_type": "markdown",
      "source": [
        "Please answer the following questions using the given data:\n",
        "\n",
        "1.   Give a list of all products sorted in descending order by their average yearly sales\n",
        "2.   The average yearly sales of products a & c from years 2018-2020 inclusive\n",
        "3.   For each product, the difference between the maximum sales revenue and minimum sales revenue\n",
        "4.   The percentage difference in sales for all products across all years\n",
        "5.   The company wants to calculate the average sales for each year. However, the company prefers some products over others. Therefore, it wants to take a *weighted* average. The weights for each product are given in a dictionary. Note that the weights sum to 1. Calculate the *weighted average* sales for all years\n",
        "\n",
        "\n"
      ],
      "metadata": {
        "id": "SeF--MWDCiy5"
      }
    },
    {
      "cell_type": "code",
      "source": [
        "weights = {\n",
        "    'a': 0.2,\n",
        "    'b': 0.1,\n",
        "    'c': 0.4,\n",
        "    'd': 0.3\n",
        "}"
      ],
      "metadata": {
        "id": "lWOTLfEsA0Gn"
      },
      "execution_count": null,
      "outputs": []
    },
    {
      "cell_type": "code",
      "source": [
        "sales = np.vstack((a, b, c, d))\n",
        "sales.shape"
      ],
      "metadata": {
        "id": "lqrEEqkYAzcL",
        "colab": {
          "base_uri": "https://localhost:8080/"
        },
        "outputId": "7defdd17-af2d-4158-a8fd-34e3a01e7bb3"
      },
      "execution_count": null,
      "outputs": [
        {
          "output_type": "execute_result",
          "data": {
            "text/plain": [
              "(4, 7)"
            ]
          },
          "metadata": {},
          "execution_count": 5
        }
      ]
    },
    {
      "cell_type": "code",
      "source": [
        "sales"
      ],
      "metadata": {
        "colab": {
          "base_uri": "https://localhost:8080/"
        },
        "id": "Gm6fdfMVOj_4",
        "outputId": "c4903789-ef93-46aa-bfcc-3b858a8a3f8b"
      },
      "execution_count": null,
      "outputs": [
        {
          "output_type": "execute_result",
          "data": {
            "text/plain": [
              "array([[35, 46, 20, 86, 93, 16, 86],\n",
              "       [82, 21, 44, 40, 27, 27, 28],\n",
              "       [69, 57, 32, 63, 56, 39, 40],\n",
              "       [30, 33, 64, 50, 10, 17, 52]])"
            ]
          },
          "metadata": {},
          "execution_count": 6
        }
      ]
    },
    {
      "cell_type": "markdown",
      "source": [
        "## Q2. Offsets\n",
        "You have a 3D NumPy array data with shape (2, 3, 1) and a 1D NumPy array offset with shape (3,).\n",
        "\n",
        "Add offset to each slice of data along the second axis using broadcasting. What is the shape of the result?"
      ],
      "metadata": {
        "id": "P35FiNmVFwm8"
      }
    },
    {
      "cell_type": "code",
      "source": [
        "x = np.random.randint(0, 100, size=(2, 3, 1))\n",
        "offset = np.array([61, 93, 28])\n",
        "\n",
        "\n",
        "\n",
        "print(offset[None, :, None].shape)\n",
        "\n",
        "y = offset[None, :, None] + x\n",
        "y"
      ],
      "metadata": {
        "id": "nkgcW-OXAzfC",
        "colab": {
          "base_uri": "https://localhost:8080/"
        },
        "outputId": "af0289b1-07f1-4bca-9daf-95d683444ec9"
      },
      "execution_count": null,
      "outputs": [
        {
          "output_type": "stream",
          "name": "stdout",
          "text": [
            "(1, 3, 1)\n"
          ]
        },
        {
          "output_type": "execute_result",
          "data": {
            "text/plain": [
              "array([[[ 88],\n",
              "        [154],\n",
              "        [ 35]],\n",
              "\n",
              "       [[136],\n",
              "        [161],\n",
              "        [112]]])"
            ]
          },
          "metadata": {},
          "execution_count": 8
        }
      ]
    },
    {
      "cell_type": "markdown",
      "source": [
        "## Q3. Radius\n",
        "\n",
        "Produce a 3-dimensional array of values that calculate the radius from the origin of all the points in an (X, Y, Z) grid of shape (100, 100, 100), with X, Y and Z ranging from -10 to 10:\n",
        "\n",
        "$R = \\sqrt{X^2 + Y^2 + Z^2}$ where $R$ is the radius from the origin"
      ],
      "metadata": {
        "id": "X05cL8UsGa6v"
      }
    },
    {
      "cell_type": "code",
      "source": [
        "X = np.linspace(-10, 10, 100)\n",
        "Y = np.linspace(-10, 10, 100)\n",
        "Z = np.linspace(-10, 10, 100)"
      ],
      "metadata": {
        "id": "_mHG189SHAnJ"
      },
      "execution_count": null,
      "outputs": []
    },
    {
      "cell_type": "code",
      "source": [
        "R = np.sqrt(X[:, None, None] ** 2 + Z **2)\n",
        "R.shape"
      ],
      "metadata": {
        "colab": {
          "base_uri": "https://localhost:8080/"
        },
        "id": "e3mHvV0ZPsme",
        "outputId": "c5cc7b1b-14f4-4ee6-a95b-87f51dcecf8f"
      },
      "execution_count": null,
      "outputs": [
        {
          "output_type": "execute_result",
          "data": {
            "text/plain": [
              "(100, 1, 100)"
            ]
          },
          "metadata": {},
          "execution_count": 12
        }
      ]
    },
    {
      "cell_type": "markdown",
      "source": [
        "## Q4. Basic Normalization"
      ],
      "metadata": {
        "id": "tvVf_JaTG_4W"
      }
    },
    {
      "cell_type": "markdown",
      "source": [
        "Given the shape-(2,3,4) array given below:\n",
        "\n",
        "Normalize x such that each of its rows, within each sheet, will sum to a value of 1. Make use of the sequential function np.sum, which should be called only once, and broadcast-division."
      ],
      "metadata": {
        "id": "O_HYgt4AHAAi"
      }
    },
    {
      "cell_type": "code",
      "source": [
        "x = np.array([[[ 0,  1,  2,  3],\n",
        "               [ 4,  5,  6,  7],\n",
        "               [ 8,  9, 10, 11]],\n",
        "              [[12, 13, 14, 15],\n",
        "               [16, 17, 18, 19],\n",
        "               [20, 21, 22, 23]]])"
      ],
      "metadata": {
        "id": "e__AkCRgAzhK"
      },
      "execution_count": null,
      "outputs": []
    },
    {
      "cell_type": "code",
      "source": [
        "sums = x.sum(axis=2)\n",
        "normalized_x = x / sums[..., np.newaxis]\n",
        "\n",
        "normalized_x"
      ],
      "metadata": {
        "id": "9ilxyZbGIaOC",
        "colab": {
          "base_uri": "https://localhost:8080/"
        },
        "outputId": "65dd2e79-40df-4c5e-b5f8-e62fad078d42"
      },
      "execution_count": null,
      "outputs": [
        {
          "output_type": "execute_result",
          "data": {
            "text/plain": [
              "array([[[1.],\n",
              "        [1.],\n",
              "        [1.]],\n",
              "\n",
              "       [[1.],\n",
              "        [1.],\n",
              "        [1.]]])"
            ]
          },
          "metadata": {},
          "execution_count": 17
        }
      ]
    },
    {
      "cell_type": "markdown",
      "source": [
        "## Q5. Pairwise differences\n",
        "\n",
        "Suppose you have the following data collected from multiple sensors:\n",
        "\n",
        "`a_1 = np.random.uniform(0, 90, size=10)` representing the recorded humidity values at location A for the first 10 years\n",
        "\n",
        "`a_2 = np.random.uniform(0, 90, size=5)` representing the recorded humidity values at location A for the last 5 years\n",
        "\n",
        "`b_1 = np.random.uniform(10, 100, size=10)` representing the recorded humidity values at location B for the first 10 years\n",
        "\n",
        "`b_2 = np.random.uniform(10, 100, size=5)` representing the recorded humidity values at location B for the last 5 years\n",
        "\n",
        "\n",
        "Please calculate the *root sum of squared pairwise differences* in the recorded humidity values between location A and B for all years.\n",
        "\n",
        "Sum of squared pairwise differences $ = \\sqrt{(x_1 - y_1)^2 + (x_2 - y_2)^2 + \\ldots + (x_N - y_N)^2} $ where N = number of years"
      ],
      "metadata": {
        "id": "gdvTgF5QIehi"
      }
    },
    {
      "cell_type": "code",
      "source": [
        "a_1 = np.random.uniform(0, 90, size=10)\n",
        "a_2 = np.random.uniform(0, 90, size=5)\n",
        "b_1 = np.random.uniform(10, 100, size=10)\n",
        "b_2 = np.random.uniform(10, 100, size=5)\n",
        "\n",
        "\n",
        "a = np.hstack((a_1, a_2))\n",
        "b = np.hstack((b_1, b_2))\n",
        "\n",
        "diff = np.sqrt(np.sum((a - b) ** 2))\n",
        "diff"
      ],
      "metadata": {
        "id": "1Qcd8u5uKAy3",
        "colab": {
          "base_uri": "https://localhost:8080/"
        },
        "outputId": "ab040558-41ca-4270-a501-566ed6c795a6"
      },
      "execution_count": null,
      "outputs": [
        {
          "output_type": "execute_result",
          "data": {
            "text/plain": [
              "130.48001727345212"
            ]
          },
          "metadata": {},
          "execution_count": 18
        }
      ]
    },
    {
      "cell_type": "markdown",
      "source": [
        "## Q6. Image Normalization\n",
        "\n",
        "A digital image is simply an array of numbers, which instructs a grid of pixels on a monitor to shine light of specific colors, according to the numerical values in that array.\n",
        "\n",
        "An RGB-image can thus be stored as a 3D NumPy array of shape - (V, H, 3)\n",
        ".\n",
        " V is the number of pixels along the vertical direction,\n",
        " H is the number of pixels along the horizontal, and the size-3 dimension stores the red, blue, and green color values for a given pixel. Thus a\n",
        " array would be a 32x32 RGB image.\n",
        "\n",
        "You often work with a collection of images. Suppose we want to store N images in a single array; thus we now consider a 4D shape-(N, V, H, 3) array. For the sake of convenience, let’s simply generate a 4D-array of random numbers as a placeholder for real image data. We will generate 500, 48x48 RGB images:\n",
        "\n",
        "`images = np.random.rand(500, 48, 48, 3)`\n",
        "\n",
        "Using the function `np.max` and broadcasting, normalize images such that the largest value within each color-channel of each image is 1."
      ],
      "metadata": {
        "id": "TM66A7-TKSgR"
      }
    },
    {
      "cell_type": "code",
      "source": [
        "images = np.random.rand(500, 48, 48, 3)"
      ],
      "metadata": {
        "id": "qeYsT8ucKAvd"
      },
      "execution_count": null,
      "outputs": []
    },
    {
      "cell_type": "code",
      "source": [
        "images_max_channels = np.max(images, axis=(1, 2)) #(500, 3)\n",
        "images_max_channels.shape"
      ],
      "metadata": {
        "id": "qUXCcQ8jJLWI",
        "colab": {
          "base_uri": "https://localhost:8080/"
        },
        "outputId": "36a63356-8c4c-4f5b-f3b5-093d33123880"
      },
      "execution_count": null,
      "outputs": [
        {
          "output_type": "execute_result",
          "data": {
            "text/plain": [
              "(500, 3)"
            ]
          },
          "metadata": {},
          "execution_count": 21
        }
      ]
    },
    {
      "cell_type": "code",
      "source": [
        "normalized_images = images / images_max_channels[:, np.newaxis, np.newaxis, :]"
      ],
      "metadata": {
        "id": "LaiLrQbcSFhE"
      },
      "execution_count": null,
      "outputs": []
    },
    {
      "cell_type": "code",
      "source": [
        "normalized_images = images / np.expand_dims(images_max_channels, axis=(1, 2))"
      ],
      "metadata": {
        "id": "e0Q32739SORh"
      },
      "execution_count": null,
      "outputs": []
    },
    {
      "cell_type": "code",
      "source": [
        "normalized_images.max(axis=(1, 2))"
      ],
      "metadata": {
        "colab": {
          "base_uri": "https://localhost:8080/"
        },
        "id": "HKCUYPG3SP9X",
        "outputId": "65ba090a-4bf8-4953-b961-34e1db02e10a"
      },
      "execution_count": null,
      "outputs": [
        {
          "output_type": "execute_result",
          "data": {
            "text/plain": [
              "array([[1., 1., 1.],\n",
              "       [1., 1., 1.],\n",
              "       [1., 1., 1.],\n",
              "       ...,\n",
              "       [1., 1., 1.],\n",
              "       [1., 1., 1.],\n",
              "       [1., 1., 1.]])"
            ]
          },
          "metadata": {},
          "execution_count": 24
        }
      ]
    },
    {
      "cell_type": "code",
      "source": [],
      "metadata": {
        "id": "prwjns4OSR81"
      },
      "execution_count": null,
      "outputs": []
    }
  ]
}