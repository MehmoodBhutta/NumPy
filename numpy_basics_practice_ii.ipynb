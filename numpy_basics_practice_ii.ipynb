{
  "cells": [
    {
      "cell_type": "markdown",
      "metadata": {
        "id": "view-in-github",
        "colab_type": "text"
      },
      "source": [
        "<a href=\"https://colab.research.google.com/github/MehmoodBhutta/NumPy/blob/main/numpy_basics_practice_ii.ipynb\" target=\"_parent\"><img src=\"https://colab.research.google.com/assets/colab-badge.svg\" alt=\"Open In Colab\"/></a>"
      ]
    },
    {
      "cell_type": "code",
      "execution_count": null,
      "id": "2a8a0fa8-ceee-4b65-9739-39bdbf33d23c",
      "metadata": {
        "id": "2a8a0fa8-ceee-4b65-9739-39bdbf33d23c"
      },
      "outputs": [],
      "source": [
        "import numpy as np"
      ]
    },
    {
      "cell_type": "markdown",
      "id": "6cd94836-36bf-4eca-a68c-4d4afb52ef7d",
      "metadata": {
        "id": "6cd94836-36bf-4eca-a68c-4d4afb52ef7d"
      },
      "source": [
        "# Q1"
      ]
    },
    {
      "cell_type": "markdown",
      "id": "26a82645-942a-40ba-9d5b-a58c65d27817",
      "metadata": {
        "id": "26a82645-942a-40ba-9d5b-a58c65d27817"
      },
      "source": [
        "Statement: Given a 3D NumPy array arr of shape (2, 3, 4), write a code snippet to calculate the sum of all elements in the array.\n",
        "\n",
        "Sample Input:"
      ]
    },
    {
      "cell_type": "code",
      "execution_count": null,
      "id": "dbf71bf2-1ac9-48f3-96fb-5f22ad767b29",
      "metadata": {
        "id": "dbf71bf2-1ac9-48f3-96fb-5f22ad767b29"
      },
      "outputs": [],
      "source": [
        "arr = np.array([[[1, 2, 3, 4],\n",
        "                 [5, 6, 7, 8],\n",
        "                 [9, 10, 11, 12]],\n",
        "                [[13, 14, 15, 16],\n",
        "                 [17, 18, 19, 20],\n",
        "                 [21, 22, 23, 24]]])\n",
        "\n",
        "# sample output: 162"
      ]
    },
    {
      "cell_type": "code",
      "execution_count": null,
      "id": "dc115f88",
      "metadata": {
        "colab": {
          "base_uri": "https://localhost:8080/"
        },
        "id": "dc115f88",
        "outputId": "749e0391-314e-4d27-f136-36d355c143c2"
      },
      "outputs": [
        {
          "output_type": "execute_result",
          "data": {
            "text/plain": [
              "300"
            ]
          },
          "metadata": {},
          "execution_count": 3
        }
      ],
      "source": [
        "np.sum(arr)"
      ]
    },
    {
      "cell_type": "markdown",
      "id": "14bd52a2-86d8-4ef6-b1ee-de66e9703458",
      "metadata": {
        "id": "14bd52a2-86d8-4ef6-b1ee-de66e9703458"
      },
      "source": [
        "# Q2"
      ]
    },
    {
      "cell_type": "markdown",
      "id": "9a536e77-25c6-4b63-906b-7aa8eaaa073e",
      "metadata": {
        "id": "9a536e77-25c6-4b63-906b-7aa8eaaa073e"
      },
      "source": [
        "Statement: Write a NumPy code snippet to create a 4D array arr of shape (2, 3, 4, 5) filled with random integers ranging from 0 to 9.\n",
        "\n",
        "Sample Output:"
      ]
    },
    {
      "cell_type": "code",
      "execution_count": null,
      "id": "5602b3f2-13e2-4585-9870-9bc07563c60e",
      "metadata": {
        "id": "5602b3f2-13e2-4585-9870-9bc07563c60e"
      },
      "outputs": [],
      "source": [
        "arr = np.array([[[[1, 2, 3, 4, 5],\n",
        "                  [6, 7, 8, 9, 0],\n",
        "                  [1, 2, 3, 4, 5],\n",
        "                  [6, 7, 8, 9, 0]],\n",
        "                 [[1, 2, 3, 4, 5],\n",
        "                  [6, 7, 8, 9, 0],\n",
        "                  [1, 2, 3, 4, 5],\n",
        "                  [6, 7, 8, 9, 0]],\n",
        "                 [[1, 2, 3, 4, 5],\n",
        "                  [6, 7, 8, 9, 0],\n",
        "                  [1, 2, 3, 4, 5],\n",
        "                  [6, 7, 8, 9, 0]]],\n",
        "                [[[1, 2, 3, 4, 5],\n",
        "                  [6, 7, 8, 9, 0],\n",
        "                  [1, 2, 3, 4, 5],\n",
        "                  [6, 7, 8, 9, 0]],\n",
        "                 [[1, 2, 3, 4, 5],\n",
        "                  [6, 7, 8, 9, 0],\n",
        "                  [1, 2, 3, 4, 5],\n",
        "                  [6, 7, 8, 9, 0]],\n",
        "                 [[1, 2, 3, 4, 5],\n",
        "                  [6, 7, 8, 9, 0],\n",
        "                  [1, 2, 3, 4, 5],\n",
        "                  [6, 7, 8, 9, 0]]]])\n"
      ]
    },
    {
      "cell_type": "markdown",
      "id": "540f8d57-6cc0-4e53-8744-787e868276a4",
      "metadata": {
        "id": "540f8d57-6cc0-4e53-8744-787e868276a4"
      },
      "source": [
        "# Q3"
      ]
    },
    {
      "cell_type": "markdown",
      "id": "37497bad-10e3-4c65-b4f6-65bb5ed0b00d",
      "metadata": {
        "id": "37497bad-10e3-4c65-b4f6-65bb5ed0b00d"
      },
      "source": [
        "Statement: Given a 4D NumPy array arr of shape (2, 3, 4, 5), write a code snippet to calculate the mean along the second axis.\n",
        "\n",
        "Sample Input:"
      ]
    },
    {
      "cell_type": "code",
      "execution_count": null,
      "id": "84df3761-5341-4010-b541-6a79a1b74625",
      "metadata": {
        "id": "84df3761-5341-4010-b541-6a79a1b74625"
      },
      "outputs": [],
      "source": [
        "arr = np.array([[[[1, 2, 3, 4, 5],\n",
        "                  [6, 7, 8, 9, 0],\n",
        "                  [1, 2, 3, 4, 5],\n",
        "                  [6, 7, 8, 9, 0]],\n",
        "                 [[1, 2, 3, 4, 5],\n",
        "                  [6, 7, 8, 9, 0],\n",
        "                  [1, 2, 3, 4, 5],\n",
        "                  [6, 7, 8, 9, 0]],\n",
        "                 [[1, 2, 3, 4, 5],\n",
        "                  [6, 7, 8, 9, 0],\n",
        "                  [1, 2, 3, 4, 5],\n",
        "                  [6, 7, 8, 9, 0]]],\n",
        "                [[[1, 2, 3, 4, 5],\n",
        "                  [6, 7, 8, 9, 0],\n",
        "                  [1, 2, 3, 4, 5],\n",
        "                  [6, 7, 8, 9, 0]],\n",
        "                 [[1, 2, 3, 4, 5],\n",
        "                  [6, 7, 8, 9, 0],\n",
        "                  [1, 2, 3, 4, 5],\n",
        "                  [6, 7, 8, 9, 0]],\n",
        "                 [[1, 2, 3, 4, 5],\n",
        "                  [6, 7, 8, 9, 0],\n",
        "                  [1, 2, 3, 4, 5],\n",
        "                  [6, 7, 8, 9, 0]]]])\n"
      ]
    },
    {
      "cell_type": "code",
      "source": [
        "np.mean(arr, axis=1)"
      ],
      "metadata": {
        "colab": {
          "base_uri": "https://localhost:8080/"
        },
        "id": "Vraj7eWD3xEG",
        "outputId": "d70053a5-af28-40ab-91ed-0666c70c3412"
      },
      "id": "Vraj7eWD3xEG",
      "execution_count": null,
      "outputs": [
        {
          "output_type": "execute_result",
          "data": {
            "text/plain": [
              "array([[[1., 2., 3., 4., 5.],\n",
              "        [6., 7., 8., 9., 0.],\n",
              "        [1., 2., 3., 4., 5.],\n",
              "        [6., 7., 8., 9., 0.]],\n",
              "\n",
              "       [[1., 2., 3., 4., 5.],\n",
              "        [6., 7., 8., 9., 0.],\n",
              "        [1., 2., 3., 4., 5.],\n",
              "        [6., 7., 8., 9., 0.]]])"
            ]
          },
          "metadata": {},
          "execution_count": 7
        }
      ]
    },
    {
      "cell_type": "markdown",
      "id": "cdec8964-f0c4-41d1-9e6a-838c2b5b137b",
      "metadata": {
        "id": "cdec8964-f0c4-41d1-9e6a-838c2b5b137b"
      },
      "source": [
        "sample output\n",
        "\n",
        "    array([[[3., 4., 5., 6., 2.],\n",
        "        [3., 4., 5., 6., 2.],\n",
        "        [3., 4., 5., 6., 2.]],\n",
        "\n",
        "       [[3., 4., 5., 6., 2.],\n",
        "        [3., 4., 5., 6., 2.],\n",
        "        [3., 4., 5., 6., 2.]]])"
      ]
    },
    {
      "cell_type": "markdown",
      "id": "9d4cd387-ca18-4951-a1ab-63a7a1f80a0d",
      "metadata": {
        "id": "9d4cd387-ca18-4951-a1ab-63a7a1f80a0d"
      },
      "source": [
        "# Q4"
      ]
    },
    {
      "cell_type": "markdown",
      "id": "768891f0-dd85-4a6b-a336-31061a30945f",
      "metadata": {
        "id": "768891f0-dd85-4a6b-a336-31061a30945f"
      },
      "source": [
        "Statement: You have collected data from a temperature sensor placed at different locations over a period of time. The recorded temperatures are stored in a 3D NumPy array temps of shape (7, 24, 60), where the dimensions represent the number of days, hours in a day, and minutes in an hour, respectively. Write a code snippet to calculate the average temperature for each day.\n",
        "\n",
        "Sample Input:"
      ]
    },
    {
      "cell_type": "code",
      "execution_count": null,
      "id": "905df96f-ee7f-410f-adae-88758871af96",
      "metadata": {
        "id": "905df96f-ee7f-410f-adae-88758871af96"
      },
      "outputs": [],
      "source": [
        "temps = np.random.uniform(20, 30, size=(7, 24, 60))\n"
      ]
    },
    {
      "cell_type": "code",
      "source": [
        "np.mean(temps, axis=(1,2))"
      ],
      "metadata": {
        "colab": {
          "base_uri": "https://localhost:8080/"
        },
        "id": "Cix17bBiAHei",
        "outputId": "48212d99-c89b-48b1-a5c8-e21d7c1a4f0a"
      },
      "id": "Cix17bBiAHei",
      "execution_count": null,
      "outputs": [
        {
          "output_type": "execute_result",
          "data": {
            "text/plain": [
              "array([24.93630664, 25.06718529, 24.89434443, 25.07999374, 25.05122029,\n",
              "       24.95840776, 25.0712583 ])"
            ]
          },
          "metadata": {},
          "execution_count": 10
        }
      ]
    },
    {
      "cell_type": "markdown",
      "id": "f8913844-39a1-4d9b-a434-7af478336f20",
      "metadata": {
        "id": "f8913844-39a1-4d9b-a434-7af478336f20"
      },
      "source": [
        "Sample Output:\n",
        "\n",
        "array([27.43864059, 26.99643944, 27.10398301, 27.43854821, 26.81072977,\n",
        "       26.76581481, 27.07946152])"
      ]
    },
    {
      "cell_type": "markdown",
      "id": "55a224ca-01c9-4b13-8bc9-1db7269a35d5",
      "metadata": {
        "id": "55a224ca-01c9-4b13-8bc9-1db7269a35d5"
      },
      "source": [
        "# Q5"
      ]
    },
    {
      "cell_type": "markdown",
      "id": "af5efd9b-ff4f-4ae1-af9a-da9bf621d3bd",
      "metadata": {
        "id": "af5efd9b-ff4f-4ae1-af9a-da9bf621d3bd"
      },
      "source": [
        "Statement: You have collected data from multiple sensors placed in different rooms of a building. The sensor readings are stored in a 4D NumPy array readings of shape (4, 7, 24, 60), where the dimensions represent the number of sensors, number of days, hours in a day, and minutes in an hour, respectively. Write a code snippet to calculate the maximum reading for each sensor across all days."
      ]
    },
    {
      "cell_type": "code",
      "execution_count": null,
      "id": "79873e69-35ad-4bde-ba48-cf33218b1dc2",
      "metadata": {
        "id": "79873e69-35ad-4bde-ba48-cf33218b1dc2"
      },
      "outputs": [],
      "source": [
        "readings = np.random.uniform(0, 100, size=(4, 7, 24, 60))"
      ]
    },
    {
      "cell_type": "markdown",
      "id": "90b1b3d2-e509-45f5-958a-f9cd9309be51",
      "metadata": {
        "id": "90b1b3d2-e509-45f5-958a-f9cd9309be51"
      },
      "source": [
        "sample output\n",
        "\n",
        "    array([[[89.88897518, 99.99682854, 98.19981421, 99.40158174, ... ],\n",
        "            [98.70094742, 95.39951638, 99.50168002, 96.82372648, ... ],\n",
        "            ...\n",
        "            [93.46395392, 99.87243731, 99.09810046, 98.38483756, ... ]],\n",
        "\n",
        "           ...\n",
        "\n",
        "           [[94.26820117, 96.70415288, 93.48840635, 99.19723072, ... ],\n",
        "            [99.78681615, 99.72712071, 97.34898231, 96.91537692, ... ],\n",
        "            ...\n",
        "            [98.20187725, 99.08541701, 94.79835262, 99.10678603, ... ]]])\n"
      ]
    },
    {
      "cell_type": "code",
      "source": [
        "np.max(readings, axis=(-1,2))"
      ],
      "metadata": {
        "colab": {
          "base_uri": "https://localhost:8080/"
        },
        "id": "oBVnboePBf_t",
        "outputId": "40b574b4-8b76-460c-fc75-3656245dae42"
      },
      "id": "oBVnboePBf_t",
      "execution_count": null,
      "outputs": [
        {
          "output_type": "execute_result",
          "data": {
            "text/plain": [
              "array([[99.97777018, 99.94612061, 99.9950958 , 99.74720148, 99.97542617,\n",
              "        99.96808925, 99.90094554],\n",
              "       [99.82232111, 99.91436739, 99.97502321, 99.90648646, 99.96979824,\n",
              "        99.85111885, 99.87995775],\n",
              "       [99.89846181, 99.81580478, 99.92061469, 99.7017962 , 99.98533652,\n",
              "        99.9207085 , 99.93545681],\n",
              "       [99.85487819, 99.99227344, 99.9773777 , 99.97296985, 99.93928535,\n",
              "        99.86438917, 99.97398448]])"
            ]
          },
          "metadata": {},
          "execution_count": 12
        }
      ]
    },
    {
      "cell_type": "markdown",
      "id": "e8ca2836-0977-4b11-a214-a93630131927",
      "metadata": {
        "id": "e8ca2836-0977-4b11-a214-a93630131927"
      },
      "source": [
        "# Q6"
      ]
    },
    {
      "cell_type": "markdown",
      "id": "b324cb33-b481-4cf8-a148-9292ec382a8c",
      "metadata": {
        "id": "b324cb33-b481-4cf8-a148-9292ec382a8c"
      },
      "source": [
        "Statement: You have collected data from a 3D printer that measures the dimensions of printed objects. The recorded dimensions are stored in a 3D NumPy array dimensions of shape (100, 50, 3), where the dimensions represent the number of printed objects, number of measurements for each object, and the three dimensions (length, width, height), respectively. Write a code snippet to calculate the average length, width, and height across all objects.\n",
        "\n",
        "Sample Inpumt:"
      ]
    },
    {
      "cell_type": "code",
      "execution_count": null,
      "id": "d1199cf1-5f47-45f5-a090-615021490d8e",
      "metadata": {
        "id": "d1199cf1-5f47-45f5-a090-615021490d8e"
      },
      "outputs": [],
      "source": [
        "dimensions = np.random.uniform(1, 10, size=(100, 50, 3))\n"
      ]
    },
    {
      "cell_type": "markdown",
      "id": "e8ccb3e5-353e-4da0-a146-f093af733ac6",
      "metadata": {
        "id": "e8ccb3e5-353e-4da0-a146-f093af733ac6"
      },
      "source": [
        "Sample Output:\n",
        "\n",
        "    array([4.99825313, 4.99388198, 5.00162036])"
      ]
    },
    {
      "cell_type": "code",
      "source": [
        "np.mean(dimensions, axis=(0,1))"
      ],
      "metadata": {
        "colab": {
          "base_uri": "https://localhost:8080/"
        },
        "id": "eAwPdkFGBzlL",
        "outputId": "e3e5f6c7-ebc8-48d8-96e9-0dbe8e4b289d"
      },
      "id": "eAwPdkFGBzlL",
      "execution_count": null,
      "outputs": [
        {
          "output_type": "execute_result",
          "data": {
            "text/plain": [
              "array([5.53408055, 5.49025581, 5.472612  ])"
            ]
          },
          "metadata": {},
          "execution_count": 14
        }
      ]
    },
    {
      "cell_type": "markdown",
      "id": "a3c20cfa-7ad6-437b-8837-1eabded47ac7",
      "metadata": {
        "id": "a3c20cfa-7ad6-437b-8837-1eabded47ac7"
      },
      "source": [
        "# Q7"
      ]
    },
    {
      "cell_type": "markdown",
      "id": "c5c5e835-2d6d-4bec-a700-4125e2ea7375",
      "metadata": {
        "id": "c5c5e835-2d6d-4bec-a700-4125e2ea7375"
      },
      "source": [
        "Statement: You are given a 3D NumPy array data of shape (5, 6, 7) representing the sensor readings from multiple sensors placed in different locations over a period of time. Each sensor provides measurements at different time points. Write a code snippet to calculate the following statistics for each sensor:\n",
        "\n",
        "Total number of measurements\n",
        "\n",
        "Average measurement value\n",
        "\n",
        "Standard deviation of measurements\n",
        "\n",
        "Minimum measurement value\n",
        "\n",
        "Maximum measurement value\n",
        "\n",
        "Sample Input:"
      ]
    },
    {
      "cell_type": "code",
      "execution_count": null,
      "id": "46256376-8395-460c-a736-71a83252e47f",
      "metadata": {
        "id": "46256376-8395-460c-a736-71a83252e47f"
      },
      "outputs": [],
      "source": [
        "data = np.random.normal(0, 1, size=(5, 6, 7))\n"
      ]
    },
    {
      "cell_type": "markdown",
      "id": "3fe0d9fb-2aef-4832-8d0d-f7091515585c",
      "metadata": {
        "id": "3fe0d9fb-2aef-4832-8d0d-f7091515585c"
      },
      "source": [
        "array([[[ 0.49201792,  0.1398731 , -1.22360891,  0.68220125, ..., -0.66727106],  \n",
        "        [ 0.03087228, -1.28243699, -0.31224707, -0.14677595, ..., -1.79206518],  \n",
        "        ...  \n",
        "        [ 0.56072784,  0.24393479, -0.94418075, -1.58076437, ..., -0.13282093]]])  \n",
        "\n",
        "Sensor 1:  \n",
        "Total measurements: 42  \n",
        "Average measurement: -0.038  \n",
        "Standard deviation: 0.961  \n",
        "Minimum measurement: -2.401  \n",
        "Maximum measurement: 1.793  \n",
        "\n",
        "Sensor 2:  \n",
        "Total measurements: 42  \n",
        "Average measurement: 0.059  \n",
        "Standard deviation: 0.980  \n",
        "Minimum measurement: -2.504  \n",
        "Maximum measurement: 1.616  \n",
        "\n",
        "...\n",
        "\n",
        "Sensor 5:  \n",
        "Total measurements: 42  \n",
        "Average measurement: -0.043  \n",
        "Standard deviation: 1.038  \n",
        "Minimum measurement: -2.277  \n",
        "Maximum measurement: 1.852  \n"
      ]
    },
    {
      "cell_type": "code",
      "execution_count": null,
      "id": "17444cb9",
      "metadata": {
        "colab": {
          "base_uri": "https://localhost:8080/"
        },
        "id": "17444cb9",
        "outputId": "8d13c15f-2cb1-4ca5-bb8f-65eff84919cc"
      },
      "outputs": [
        {
          "output_type": "execute_result",
          "data": {
            "text/plain": [
              "42"
            ]
          },
          "metadata": {},
          "execution_count": 16
        }
      ],
      "source": [
        "data.shape[1] * data.shape[2]"
      ]
    },
    {
      "cell_type": "code",
      "source": [
        "data.mean(axis=(1, 2))"
      ],
      "metadata": {
        "colab": {
          "base_uri": "https://localhost:8080/"
        },
        "id": "yOFqLyd1NpQn",
        "outputId": "fc390401-8a4a-4fca-b9c2-a6d8892c4d33"
      },
      "id": "yOFqLyd1NpQn",
      "execution_count": null,
      "outputs": [
        {
          "output_type": "execute_result",
          "data": {
            "text/plain": [
              "array([-8.22015873e-02, -8.45962966e-05, -3.59202771e-01,  1.37444031e-02,\n",
              "       -6.91122845e-02])"
            ]
          },
          "metadata": {},
          "execution_count": 18
        }
      ]
    },
    {
      "cell_type": "code",
      "source": [
        "data.std(axis=(1,2))"
      ],
      "metadata": {
        "colab": {
          "base_uri": "https://localhost:8080/"
        },
        "id": "_-4iw0sLNpkZ",
        "outputId": "2bab4a38-eca6-4428-efdb-89482ca14329"
      },
      "id": "_-4iw0sLNpkZ",
      "execution_count": null,
      "outputs": [
        {
          "output_type": "execute_result",
          "data": {
            "text/plain": [
              "array([1.03067051, 0.87826933, 0.9016968 , 0.7499216 , 0.87204808])"
            ]
          },
          "metadata": {},
          "execution_count": 19
        }
      ]
    },
    {
      "cell_type": "code",
      "source": [
        "data.min(axis=(-1,-2))"
      ],
      "metadata": {
        "colab": {
          "base_uri": "https://localhost:8080/"
        },
        "id": "AVewPtKpNp3J",
        "outputId": "0539a050-7a23-4b80-e9f8-3ee75ea2ad5c"
      },
      "id": "AVewPtKpNp3J",
      "execution_count": null,
      "outputs": [
        {
          "output_type": "execute_result",
          "data": {
            "text/plain": [
              "array([-1.98186763, -2.24936923, -2.44884326, -1.56415734, -1.54755139])"
            ]
          },
          "metadata": {},
          "execution_count": 20
        }
      ]
    },
    {
      "cell_type": "code",
      "source": [
        "data.max(axis=(-1,-2))"
      ],
      "metadata": {
        "colab": {
          "base_uri": "https://localhost:8080/"
        },
        "id": "J9BjcKK9NqLv",
        "outputId": "5f851300-767b-4411-f62b-aa93217ea94c"
      },
      "id": "J9BjcKK9NqLv",
      "execution_count": null,
      "outputs": [
        {
          "output_type": "execute_result",
          "data": {
            "text/plain": [
              "array([2.36865289, 1.57889199, 0.8896144 , 1.23603245, 2.10678811])"
            ]
          },
          "metadata": {},
          "execution_count": 21
        }
      ]
    },
    {
      "cell_type": "markdown",
      "id": "f9cb5504",
      "metadata": {
        "id": "f9cb5504"
      },
      "source": [
        "# Q8"
      ]
    },
    {
      "cell_type": "markdown",
      "id": "850d2a86",
      "metadata": {
        "id": "850d2a86"
      },
      "source": [
        "\n",
        "Statement: You are given data about the sales (in $) of several products of a company across several years and months. The data is stored in a 3D array of shape (10, 6, 12) for 10 products, 6 years and 12 months. Write code snippets to calculate the following:\n",
        "\n",
        "- The maximum value of sales for each product in each month\n",
        "- The average revenue generated by sales for each year\n",
        "- The difference in sales in even months and odd months averaged across all months and years\n",
        "- The median value of total sales revenue for each product across all years\n",
        "- All years where the average sales revenue (across all products and months) exceeded $500\n",
        "- Sales data of all products whose minimum average sales revenue was atleast $350 and maximum average sales revenue was below $700 (*Hint: Take average across all months and min/max across years*)\n",
        "\n",
        "*Hint: You many need multiple steps to calculate some of these statistics*\n",
        "\n",
        "Sample Input:"
      ]
    },
    {
      "cell_type": "code",
      "execution_count": null,
      "id": "a70a055f",
      "metadata": {
        "id": "a70a055f"
      },
      "outputs": [],
      "source": [
        "sales = np.random.uniform(10, 1000, size=(10, 6, 12))"
      ]
    },
    {
      "cell_type": "code",
      "execution_count": null,
      "id": "1d82bc77",
      "metadata": {
        "colab": {
          "base_uri": "https://localhost:8080/"
        },
        "id": "1d82bc77",
        "outputId": "c0a814cd-ba6c-4433-8127-ca07d50d96b7"
      },
      "outputs": [
        {
          "output_type": "execute_result",
          "data": {
            "text/plain": [
              "array([[895.61108366, 805.49774023, 884.90644808, 993.79278465,\n",
              "        983.68038295, 966.38409633, 954.59917632, 764.44186043,\n",
              "        869.63360236, 403.7276131 , 955.41759628, 816.65144672],\n",
              "       [920.78536725, 763.3635226 , 822.90096527, 843.61754416,\n",
              "        624.06947975, 968.1538908 , 725.86851106, 908.28071301,\n",
              "        967.89488793, 886.43064541, 761.73547056, 816.89433089],\n",
              "       [755.75625961, 921.49961887, 836.41260312, 633.21470052,\n",
              "        952.79929023, 971.84657228, 775.26042066, 991.7819483 ,\n",
              "        954.59759089, 840.59073552, 994.10014243, 776.75722183],\n",
              "       [958.45497254, 981.52373413, 838.32876173, 913.82839357,\n",
              "        859.71985026, 832.37441079, 965.02801633, 925.78742479,\n",
              "        659.34391758, 985.84276503, 924.96064031, 673.66119047],\n",
              "       [877.21120936, 917.18961776, 961.58436964, 855.6316825 ,\n",
              "        940.09970963, 960.65888987, 857.07016693, 796.97881815,\n",
              "        820.54803668, 849.77018461, 919.66968183, 813.82631028],\n",
              "       [914.06231118, 772.07581161, 922.10568701, 930.60400704,\n",
              "        872.47576365, 801.17965076, 879.79794948, 711.7847901 ,\n",
              "        540.54801938, 869.26074577, 963.41979717, 995.70789759],\n",
              "       [901.15829715, 972.60304529, 961.73371472, 872.48172647,\n",
              "        723.04208583, 920.90435446, 716.18038298, 987.32276275,\n",
              "        858.82166042, 974.29822408, 668.36358341, 962.32492086],\n",
              "       [770.20340089, 857.86612935, 950.33070039, 907.47984284,\n",
              "        978.46452128, 987.54514556, 938.8054073 , 916.2225974 ,\n",
              "        973.22996781, 764.0924085 , 974.56805846, 973.35724576],\n",
              "       [996.43961841, 862.15501334, 878.04801553, 609.88957641,\n",
              "        952.08785807, 717.05258834, 891.06140903, 952.04141186,\n",
              "        675.4845155 , 796.14518917, 925.38081275, 881.94613129],\n",
              "       [959.61185929, 859.37804291, 740.27501393, 918.18249463,\n",
              "        703.30315053, 991.92107563, 994.43121663, 801.11614738,\n",
              "        971.24150322, 883.92835765, 748.28503844, 998.19472248]])"
            ]
          },
          "metadata": {},
          "execution_count": 24
        }
      ],
      "source": [
        "np.max(sales,axis=1)"
      ]
    },
    {
      "cell_type": "code",
      "source": [
        "np.mean(sales, axis=(0 ,2))"
      ],
      "metadata": {
        "colab": {
          "base_uri": "https://localhost:8080/"
        },
        "id": "HwdtIbOeROml",
        "outputId": "050310e8-2292-4713-86a7-b1697590bfd6"
      },
      "id": "HwdtIbOeROml",
      "execution_count": null,
      "outputs": [
        {
          "output_type": "execute_result",
          "data": {
            "text/plain": [
              "array([513.10807135, 546.80777155, 516.86937368, 508.02196224,\n",
              "       517.47646425, 535.6560913 ])"
            ]
          },
          "metadata": {},
          "execution_count": 25
        }
      ]
    },
    {
      "cell_type": "code",
      "source": [
        "diffs = sales[..., ::2] - sales[..., 1::2]\n",
        "diffs.mean(axis=(1, 2))"
      ],
      "metadata": {
        "colab": {
          "base_uri": "https://localhost:8080/"
        },
        "id": "pzSXFSNlRj-y",
        "outputId": "5659f787-10c8-4089-87fc-12c09005bb3a"
      },
      "id": "pzSXFSNlRj-y",
      "execution_count": null,
      "outputs": [
        {
          "output_type": "execute_result",
          "data": {
            "text/plain": [
              "array([  42.28940813,    6.17835267,    6.97709362,  -77.50152205,\n",
              "         -5.20772829,  -40.08640364, -134.11685624,  -10.19520314,\n",
              "         96.86078228,   17.5310744 ])"
            ]
          },
          "metadata": {},
          "execution_count": 26
        }
      ]
    },
    {
      "cell_type": "code",
      "source": [
        "total_sales_per_year = sales.sum(axis=-1)\n",
        "\n",
        "total_sales_per_year[2]"
      ],
      "metadata": {
        "colab": {
          "base_uri": "https://localhost:8080/"
        },
        "id": "90hCgNGJRucx",
        "outputId": "581e194d-cb6e-47ce-94ca-680aef80f629"
      },
      "id": "90hCgNGJRucx",
      "execution_count": null,
      "outputs": [
        {
          "output_type": "execute_result",
          "data": {
            "text/plain": [
              "array([7084.10889756, 5464.38139444, 7161.36570975, 5647.59352169,\n",
              "       6668.06569724, 5743.90083114])"
            ]
          },
          "metadata": {},
          "execution_count": 27
        }
      ]
    },
    {
      "cell_type": "code",
      "source": [
        "sorted_total_sales_per_year = np.sort(total_sales_per_year, axis=1)\n",
        "sorted_total_sales_per_year"
      ],
      "metadata": {
        "colab": {
          "base_uri": "https://localhost:8080/"
        },
        "id": "z9kZp1q2S71E",
        "outputId": "0347db0f-5c3a-4477-8235-7481d1364b30"
      },
      "id": "z9kZp1q2S71E",
      "execution_count": null,
      "outputs": [
        {
          "output_type": "execute_result",
          "data": {
            "text/plain": [
              "array([[5225.2541099 , 5702.191237  , 6481.17309571, 6646.5796853 ,\n",
              "        6747.24336772, 8659.3125319 ],\n",
              "       [5251.39173194, 5265.67269127, 5348.01910939, 6251.64976738,\n",
              "        6263.81636769, 6453.53245659],\n",
              "       [5464.38139444, 5647.59352169, 5743.90083114, 6668.06569724,\n",
              "        7084.10889756, 7161.36570975],\n",
              "       [6213.49640637, 6324.89836817, 6325.26292417, 6335.95257874,\n",
              "        6403.3254684 , 7417.1599324 ],\n",
              "       [5366.52786011, 5658.96716749, 5832.89354802, 6818.26331323,\n",
              "        6843.73351349, 8020.69995533],\n",
              "       [4481.38911312, 5867.49046954, 6324.99036545, 6464.15693841,\n",
              "        6539.64486174, 7185.1879634 ],\n",
              "       [5609.90544778, 6126.26701851, 6136.74526362, 6160.17068744,\n",
              "        6341.66224224, 8059.40587061],\n",
              "       [5933.83126113, 6066.53874573, 6160.41234167, 6742.94239262,\n",
              "        7115.04458584, 8042.42874181],\n",
              "       [5066.08046661, 5095.13320607, 5802.50563575, 6132.26545065,\n",
              "        6219.71173578, 7120.274029  ],\n",
              "       [4904.11526829, 5045.37397509, 5256.23787536, 6262.29547712,\n",
              "        6586.69611354, 8077.43134028]])"
            ]
          },
          "metadata": {},
          "execution_count": 28
        }
      ]
    },
    {
      "cell_type": "code",
      "source": [
        "medians = (sorted_total_sales_per_year[:, 2] + sorted_total_sales_per_year[:, 3]) / 2"
      ],
      "metadata": {
        "id": "HfFUjcMpTWvO"
      },
      "id": "HfFUjcMpTWvO",
      "execution_count": null,
      "outputs": []
    },
    {
      "cell_type": "code",
      "source": [
        "medians"
      ],
      "metadata": {
        "colab": {
          "base_uri": "https://localhost:8080/"
        },
        "id": "cXuqe6WTTtad",
        "outputId": "9edd864c-820a-450a-a6ca-7c9fbb777ac5"
      },
      "id": "cXuqe6WTTtad",
      "execution_count": null,
      "outputs": [
        {
          "output_type": "execute_result",
          "data": {
            "text/plain": [
              "array([6563.8763905 , 5799.83443838, 6205.98326419, 6330.60775145,\n",
              "       6325.57843063, 6394.57365193, 6148.45797553, 6451.67736714,\n",
              "       5967.3855432 , 5759.26667624])"
            ]
          },
          "metadata": {},
          "execution_count": 31
        }
      ]
    },
    {
      "cell_type": "code",
      "source": [],
      "metadata": {
        "id": "fUxLzqSkT_BB"
      },
      "id": "fUxLzqSkT_BB",
      "execution_count": null,
      "outputs": []
    }
  ],
  "metadata": {
    "kernelspec": {
      "display_name": "Python 3 (ipykernel)",
      "language": "python",
      "name": "python3"
    },
    "language_info": {
      "codemirror_mode": {
        "name": "ipython",
        "version": 3
      },
      "file_extension": ".py",
      "mimetype": "text/x-python",
      "name": "python",
      "nbconvert_exporter": "python",
      "pygments_lexer": "ipython3",
      "version": "3.11.4"
    },
    "colab": {
      "provenance": [],
      "include_colab_link": true
    }
  },
  "nbformat": 4,
  "nbformat_minor": 5
}