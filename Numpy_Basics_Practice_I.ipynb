{
  "nbformat": 4,
  "nbformat_minor": 0,
  "metadata": {
    "colab": {
      "provenance": [],
      "include_colab_link": true
    },
    "kernelspec": {
      "name": "python3",
      "display_name": "Python 3"
    },
    "language_info": {
      "name": "python"
    }
  },
  "cells": [
    {
      "cell_type": "markdown",
      "metadata": {
        "id": "view-in-github",
        "colab_type": "text"
      },
      "source": [
        "<a href=\"https://colab.research.google.com/github/MehmoodBhutta/NumPy/blob/main/Numpy_Basics_Practice_I.ipynb\" target=\"_parent\"><img src=\"https://colab.research.google.com/assets/colab-badge.svg\" alt=\"Open In Colab\"/></a>"
      ]
    },
    {
      "cell_type": "markdown",
      "source": [
        "# Numpy Basics Exercises\n",
        "\n",
        "Please complete the following exercises **using numpy only**."
      ],
      "metadata": {
        "id": "3fp2tMylXxlZ"
      }
    },
    {
      "cell_type": "code",
      "source": [
        "import numpy as np"
      ],
      "metadata": {
        "id": "dwhl1fZSY-Qw"
      },
      "execution_count": null,
      "outputs": []
    },
    {
      "cell_type": "markdown",
      "source": [
        "### Create a 2-D array where the first row goes from 10 to 80 exclusive with steps of 5 and 2nd row goes from 5 to 47 exclusive with steps of 3"
      ],
      "metadata": {
        "id": "Oork_pTdXsin"
      }
    },
    {
      "cell_type": "code",
      "source": [
        "# Answer here\n",
        "first_row = np.arange(10, 80, 5)\n",
        "\n",
        "second_row = np.arange(5, 47, 3)\n",
        "\n",
        "result_array = np.array([first_row, second_row])\n",
        "\n",
        "print(result_array)"
      ],
      "metadata": {
        "id": "JJs0sRQ7YKgF",
        "colab": {
          "base_uri": "https://localhost:8080/"
        },
        "outputId": "4cbd5793-cce3-4825-f24a-604bac8ff67f"
      },
      "execution_count": null,
      "outputs": [
        {
          "output_type": "stream",
          "name": "stdout",
          "text": [
            "[[10 15 20 25 30 35 40 45 50 55 60 65 70 75]\n",
            " [ 5  8 11 14 17 20 23 26 29 32 35 38 41 44]]\n"
          ]
        }
      ]
    },
    {
      "cell_type": "markdown",
      "source": [
        "### Now use indexing to select the 5th 7th and 11th columns\n",
        "\n",
        "*   List item\n",
        "\n",
        "---\n",
        "\n",
        "\n",
        "*   List item\n",
        "\n"
      ],
      "metadata": {
        "id": "eBGU-aEqYM16"
      }
    },
    {
      "cell_type": "code",
      "source": [
        "# Answer here\n",
        "x[:, [4, 6, 10]]"
      ],
      "metadata": {
        "id": "-xAT9OukYNKx",
        "colab": {
          "base_uri": "https://localhost:8080/"
        },
        "outputId": "fc4a27f2-f78f-4278-faa2-bcc75c01e8ef"
      },
      "execution_count": null,
      "outputs": [
        {
          "output_type": "execute_result",
          "data": {
            "text/plain": [
              "array([[30, 40, 60],\n",
              "       [17, 23, 35]])"
            ]
          },
          "metadata": {},
          "execution_count": 9
        }
      ]
    },
    {
      "cell_type": "markdown",
      "source": [
        "### Select the 2nd row and fourth-last to second-last columns\n",
        "\n",
        "*   List item\n",
        "*   List item\n",
        "\n"
      ],
      "metadata": {
        "id": "wu3J-12UZl2I"
      }
    },
    {
      "cell_type": "code",
      "source": [
        "#Answer here\n",
        "x[1, -4:-1]"
      ],
      "metadata": {
        "id": "YPAaA_BKZl-N",
        "colab": {
          "base_uri": "https://localhost:8080/"
        },
        "outputId": "4b06f0cc-7f3b-4b55-a3f6-8b565f2103cb"
      },
      "execution_count": null,
      "outputs": [
        {
          "output_type": "execute_result",
          "data": {
            "text/plain": [
              "array([35, 38, 41])"
            ]
          },
          "metadata": {},
          "execution_count": 10
        }
      ]
    },
    {
      "cell_type": "markdown",
      "source": [
        "### Select 3rd to 3rd last columns skipping every second column"
      ],
      "metadata": {
        "id": "kCgDP3J_ZmF8"
      }
    },
    {
      "cell_type": "code",
      "source": [
        "# Answer here\n",
        "x[:, 2:-2:2]"
      ],
      "metadata": {
        "id": "YqRY90S0ZmNW",
        "colab": {
          "base_uri": "https://localhost:8080/"
        },
        "outputId": "4b04e114-fefd-40bf-b933-a8ec5b6b6a42"
      },
      "execution_count": null,
      "outputs": [
        {
          "output_type": "execute_result",
          "data": {
            "text/plain": [
              "array([[20, 30, 40, 50, 60],\n",
              "       [11, 17, 23, 29, 35]])"
            ]
          },
          "metadata": {},
          "execution_count": 11
        }
      ]
    },
    {
      "cell_type": "markdown",
      "source": [
        "###  Select 3rd to 3rd last columns skipping every second column but in reverse order"
      ],
      "metadata": {
        "id": "x21_4u7SZmUx"
      }
    },
    {
      "cell_type": "code",
      "source": [
        "# Answer here\n",
        "x[:, -3:2:-2]"
      ],
      "metadata": {
        "id": "oEQws0mAZmcU",
        "colab": {
          "base_uri": "https://localhost:8080/"
        },
        "outputId": "ff6f5591-6d36-4ac7-eb62-944f92547422"
      },
      "execution_count": null,
      "outputs": [
        {
          "output_type": "execute_result",
          "data": {
            "text/plain": [
              "array([[65, 55, 45, 35, 25],\n",
              "       [38, 32, 26, 20, 14]])"
            ]
          },
          "metadata": {},
          "execution_count": 12
        }
      ]
    },
    {
      "cell_type": "markdown",
      "source": [
        "### We will work with the following array:"
      ],
      "metadata": {
        "id": "bqVyb4DKZmkR"
      }
    },
    {
      "cell_type": "code",
      "source": [
        "a = np.arange(25).reshape(5, 5)\n",
        "a"
      ],
      "metadata": {
        "colab": {
          "base_uri": "https://localhost:8080/"
        },
        "id": "Iz86eeTWZmsK",
        "outputId": "63d80f6c-401d-40bc-9db3-ed784cfca668"
      },
      "execution_count": null,
      "outputs": [
        {
          "output_type": "execute_result",
          "data": {
            "text/plain": [
              "array([[ 0,  1,  2,  3,  4],\n",
              "       [ 5,  6,  7,  8,  9],\n",
              "       [10, 11, 12, 13, 14],\n",
              "       [15, 16, 17, 18, 19],\n",
              "       [20, 21, 22, 23, 24]])"
            ]
          },
          "metadata": {},
          "execution_count": 13
        }
      ]
    },
    {
      "cell_type": "markdown",
      "source": [
        "### Use slicing only to select 3rd and last row along with 2nd and last columns"
      ],
      "metadata": {
        "id": "OdjK0hqobWGp"
      }
    },
    {
      "cell_type": "code",
      "source": [
        "# Answer here\n",
        "a[2::2, 1::3]"
      ],
      "metadata": {
        "id": "-iw2ciaibUHU",
        "colab": {
          "base_uri": "https://localhost:8080/"
        },
        "outputId": "ca0b320f-b89f-42d0-afd3-43f032ce4db9"
      },
      "execution_count": null,
      "outputs": [
        {
          "output_type": "execute_result",
          "data": {
            "text/plain": [
              "array([[11, 14],\n",
              "       [21, 24]])"
            ]
          },
          "metadata": {},
          "execution_count": 17
        }
      ]
    },
    {
      "cell_type": "markdown",
      "source": [
        "### Extract the following sub-array: [[2, 3], [12, 13], [22, 23]]"
      ],
      "metadata": {
        "id": "5PtInLvEb7Am"
      }
    },
    {
      "cell_type": "code",
      "source": [
        "# Answer here\n",
        "a[::2, 2:4]"
      ],
      "metadata": {
        "id": "lVi9eV2rb6hz",
        "colab": {
          "base_uri": "https://localhost:8080/"
        },
        "outputId": "6bd0a534-73d1-4a0f-f5a8-16b4e4659f8a"
      },
      "execution_count": null,
      "outputs": [
        {
          "output_type": "execute_result",
          "data": {
            "text/plain": [
              "array([[ 2,  3],\n",
              "       [12, 13],\n",
              "       [22, 23]])"
            ]
          },
          "metadata": {},
          "execution_count": 19
        }
      ]
    },
    {
      "cell_type": "markdown",
      "source": [
        "### Combine fancy/location indexing with slicing to extract the following sub-array: [[6, 8], [16, 18], [21, 23]]"
      ],
      "metadata": {
        "id": "mHN-ADlNcRE7"
      }
    },
    {
      "cell_type": "code",
      "source": [
        "# Answer here\n",
        "a[[1,-2,-1], 1:4:2]"
      ],
      "metadata": {
        "id": "e_R0tbMHcNGy",
        "colab": {
          "base_uri": "https://localhost:8080/"
        },
        "outputId": "dc306531-e914-4b99-afd8-f056579b71c7"
      },
      "execution_count": null,
      "outputs": [
        {
          "output_type": "execute_result",
          "data": {
            "text/plain": [
              "array([[ 6,  8],\n",
              "       [16, 18],\n",
              "       [21, 23]])"
            ]
          },
          "metadata": {},
          "execution_count": 20
        }
      ]
    },
    {
      "cell_type": "markdown",
      "source": [
        "### Change the values 1, 10, 19 and 22 in the array to -2\n",
        "\n",
        "> Indented block\n",
        "\n"
      ],
      "metadata": {
        "id": "gRle44JLc8oL"
      }
    },
    {
      "cell_type": "code",
      "source": [
        "x_test = [0,2,3,4]\n",
        "y_test = [1,0,-1,2]\n",
        "a[x_test , y_test]"
      ],
      "metadata": {
        "id": "MnIs-SBzdMPv",
        "colab": {
          "base_uri": "https://localhost:8080/"
        },
        "outputId": "8dd3b775-3921-4567-f403-6c78567049e4"
      },
      "execution_count": null,
      "outputs": [
        {
          "output_type": "execute_result",
          "data": {
            "text/plain": [
              "array([ 1, 10, 19, 22])"
            ]
          },
          "metadata": {},
          "execution_count": 23
        }
      ]
    },
    {
      "cell_type": "markdown",
      "source": [
        "### Repeat above using boolean indexing"
      ],
      "metadata": {
        "id": "tWSQO5e3dZxf"
      }
    },
    {
      "cell_type": "code",
      "source": [
        "x = np.array([[0, 1, 0, 0, 0],\n",
        "                 [0, 0, 0, 0, 0],\n",
        "                 [1, 0, 0, 0, 0],\n",
        "                 [0, 0, 0, 0, 1],\n",
        "                 [0, 0, 1, 0, 0]], dtype=bool)\n",
        "\n",
        "a[x]"
      ],
      "metadata": {
        "id": "zytB7nrMdYfT",
        "colab": {
          "base_uri": "https://localhost:8080/"
        },
        "outputId": "472f6262-66c7-4a2c-94cf-32ac83d5ebd5"
      },
      "execution_count": null,
      "outputs": [
        {
          "output_type": "execute_result",
          "data": {
            "text/plain": [
              "array([ 1, 10, 19, 22])"
            ]
          },
          "metadata": {},
          "execution_count": 24
        }
      ]
    },
    {
      "cell_type": "markdown",
      "source": [
        "### Combine slicing in the column dimension and boolean indexing in row dimension to extract the following sub-array: [[0, 3], [10, 13], [15, 18]]"
      ],
      "metadata": {
        "id": "2i_7lkqpdhtx"
      }
    },
    {
      "cell_type": "code",
      "source": [
        "# Answer here\n",
        "a\n"
      ],
      "metadata": {
        "id": "O8683ef2dYng",
        "colab": {
          "base_uri": "https://localhost:8080/"
        },
        "outputId": "4794b72e-e183-4c4f-d12d-271ed541d73f"
      },
      "execution_count": null,
      "outputs": [
        {
          "output_type": "execute_result",
          "data": {
            "text/plain": [
              "array([[ 0,  1,  2,  3,  4],\n",
              "       [ 5,  6,  7,  8,  9],\n",
              "       [10, 11, 12, 13, 14],\n",
              "       [15, 16, 17, 18, 19],\n",
              "       [20, 21, 22, 23, 24]])"
            ]
          },
          "metadata": {},
          "execution_count": 30
        }
      ]
    },
    {
      "cell_type": "markdown",
      "source": [
        "### Calculating the sum, min and max of all diagonal values"
      ],
      "metadata": {
        "id": "BLH29N-KLDEJ"
      }
    },
    {
      "cell_type": "code",
      "source": [
        "# Answer here\n",
        "a[[True, False, True, True, False], :5:3]"
      ],
      "metadata": {
        "id": "ARzj6VP9LCPz",
        "colab": {
          "base_uri": "https://localhost:8080/"
        },
        "outputId": "fde9b2de-ec1c-4d48-9c6a-49b3466ca899"
      },
      "execution_count": null,
      "outputs": [
        {
          "output_type": "execute_result",
          "data": {
            "text/plain": [
              "array([[ 0,  3],\n",
              "       [10, 13],\n",
              "       [15, 18]])"
            ]
          },
          "metadata": {},
          "execution_count": 31
        }
      ]
    },
    {
      "cell_type": "markdown",
      "source": [
        "### Calculate the sum of differences between the 2nd row and 2nd last column"
      ],
      "metadata": {
        "id": "IIL3aHfpMQpr"
      }
    },
    {
      "cell_type": "code",
      "source": [
        "# Answer here\n",
        "a[1] - a [-2], np.sum(a[1] - a[-2])"
      ],
      "metadata": {
        "id": "mNyxI8d0Mcvz",
        "colab": {
          "base_uri": "https://localhost:8080/"
        },
        "outputId": "2c1c1440-a334-4465-e9c3-1642b382ea42"
      },
      "execution_count": null,
      "outputs": [
        {
          "output_type": "execute_result",
          "data": {
            "text/plain": [
              "(array([-10, -10, -10, -10, -10]), -50)"
            ]
          },
          "metadata": {},
          "execution_count": 32
        }
      ]
    },
    {
      "cell_type": "markdown",
      "source": [
        "### Create a new array that is the sum of even rows and odd rows"
      ],
      "metadata": {
        "id": "jEo7E6YNNIU5"
      }
    },
    {
      "cell_type": "code",
      "source": [
        "# Answer here\n",
        "y = np.arange(36).reshape(6, 6)\n",
        "\n",
        "#Answer:\n",
        "y[::2] + y[1::2]\n",
        "\n"
      ],
      "metadata": {
        "id": "UEwbxwAPNikT",
        "colab": {
          "base_uri": "https://localhost:8080/"
        },
        "outputId": "171dcfc6-a328-4c2d-c85e-f73ee8d7c322"
      },
      "execution_count": null,
      "outputs": [
        {
          "output_type": "execute_result",
          "data": {
            "text/plain": [
              "array([[ 6,  8, 10, 12, 14, 16],\n",
              "       [30, 32, 34, 36, 38, 40],\n",
              "       [54, 56, 58, 60, 62, 64]])"
            ]
          },
          "metadata": {},
          "execution_count": 36
        }
      ]
    },
    {
      "cell_type": "code",
      "source": [
        "sum_even_odd = a[:-1:2] +  a[1::2]\n",
        "sum_even_odd"
      ],
      "metadata": {
        "colab": {
          "base_uri": "https://localhost:8080/"
        },
        "id": "QGZAz8bnaDW8",
        "outputId": "50db8393-ad89-4a1d-84f4-92727f2d66cc"
      },
      "execution_count": null,
      "outputs": [
        {
          "output_type": "execute_result",
          "data": {
            "text/plain": [
              "array([[ 5,  7,  9, 11, 13],\n",
              "       [25, 27, 29, 31, 33]])"
            ]
          },
          "metadata": {},
          "execution_count": 37
        }
      ]
    },
    {
      "cell_type": "markdown",
      "source": [
        "## You are done. Good job!"
      ],
      "metadata": {
        "id": "TaKXFf_5d67q"
      }
    },
    {
      "cell_type": "code",
      "source": [],
      "metadata": {
        "id": "PwdTR28zd6Ji"
      },
      "execution_count": null,
      "outputs": []
    }
  ]
}